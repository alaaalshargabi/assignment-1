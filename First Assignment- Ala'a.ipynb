{
 "cells": [
  {
   "cell_type": "markdown",
   "metadata": {},
   "source": [
    "# Machine Learning Definitions:\n",
    "\n",
    "1. Machine learning is the study of how to use computers to simulate human learning activities; it is the study of computers gain new knowledge and new skills, identify existing knowledge, and continuously improve performance and achieve self-improvement methods.\n",
    "\n",
    "**H. Lv and H. Tang, \"Machine Learning Methods and Their Application Research,\" 2011 2nd International Symposium on Intelligence Information Processing and Trusted Computing, Hubei, 2011, pp. 108-110.**\n",
    "\n",
    "\n",
    "2. A computer program is said to learn from experience E with respect to some task T and some performance measure P, if its performance on T, as measured by P, improves with experience E. \n",
    "\n",
    "**Tom Mitchell, 1997**\n",
    "\n",
    "\n",
    "3. Machine Learning is the field of study that gives computers the ability to learn without being explicitly programmed. \n",
    "\n",
    "**Arthur Samuel, 1959**\n",
    "\n",
    "4. Machine learning is a method of data analysis that automates analytical model building. It is a branch of artificial intelligence based on the idea that systems can learn from data, identify patterns and make decisions with minimal human intervention.\n",
    "\n",
    "**https://www.sas.com/en_us/insights/analytics/machine-learning.html, retrivied on 16th Feb 2019**\n",
    "\n",
    "\n",
    "5. Machine learning is the science (and art) of programming computers so they can learn from data. \n",
    "\n",
    "**Aurélien Géron in Hands-on Machine Learning with Scikit-Learn and TensorFlow, 2017**\n",
    "\n",
    "\n",
    "## Machine Learning  Applications:\n",
    "\n",
    "1. Natural language processing\n",
    "2. Character recognitio\n",
    "3. Machine translation\n",
    "4. Expert systems\n",
    "5. Discovery learning, in the process of acquiring knowledge\n",
    "\n",
    "**H. Lv and H. Tang, \"Machine Learning Methods and Their Application Research,\" 2011 2nd International Symposium on Intelligence Information Processing and Trusted Computing, Hubei, 2011, pp. 108-110.**\n",
    "\n",
    "6. Determination of vocational fields with machine learning algorithm\n",
    "\n",
    "**H. I. Bulbul and O. Unsal, \"Determination of Vocational Fields with Machine Learning Algorithm,\" 2010 Ninth International Conference on Machine Learning and Applications, Washington, DC, 2010, pp. 710-713.\n",
    "doi: 10.1109/ICMLA.2010.109**\n",
    "\n",
    "7. The application of machine learningalgorithm in underwriting process\n",
    "\n",
    "**Yi Tan and Guo-Ji Zhang, \"The application of machine learning algorithm in underwriting process,\" 2005 International Conference on Machine Learning and Cybernetics, Guangzhou, China, 2005, pp. 3523-3527 Vol. 6.\n",
    "doi: 10.1109/ICMLC.2005.1527552**\n",
    "\n",
    "8. Application of machine learning techniques to Web-based intelligent learning diagnosis system\n",
    "\n",
    "**Chenn-Jung Huang, Ming-Chou Liu, San-Shine Chu and Chin-Lun Cheng, \"Application of machine learning techniques to Web-based intelligent learning diagnosis system,\" Fourth International Conference on Hybrid Intelligent Systems (HIS'04), Kitakyushu, Japan, 2004, pp. 242-247.\n",
    "doi: 10.1109/ICHIS.2004.25**\n",
    "\n",
    "\n",
    "\n"
   ]
  }
 ],
 "metadata": {
  "kernelspec": {
   "display_name": "Python 3",
   "language": "python",
   "name": "python3"
  },
  "language_info": {
   "codemirror_mode": {
    "name": "ipython",
    "version": 3
   },
   "file_extension": ".py",
   "mimetype": "text/x-python",
   "name": "python",
   "nbconvert_exporter": "python",
   "pygments_lexer": "ipython3",
   "version": "3.7.0"
  }
 },
 "nbformat": 4,
 "nbformat_minor": 2
}
